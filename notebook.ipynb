{
 "cells": [
  {
   "cell_type": "code",
   "execution_count": null,
   "id": "1826b6a0",
   "metadata": {},
   "outputs": [],
   "source": [
    "import pandas as pd\n",
    "import numpy as np\n",
    "\n",
    "# Create a random DataFrame with 5 rows and 3 columns\n",
    "df = pd.DataFrame(\n",
    "    np.random.randint(0, 100, size=(5, 3)),\n",
    "    columns=['A', 'B', 'C']\n",
    ")\n",
    "\n",
    "# Add a new column 'D' with random floats\n",
    "df['D'] = np.random.rand(5)\n",
    "\n",
    "# Calculate the mean of each column\n",
    "means = df.mean()\n",
    "\n",
    "# Display the DataFrame and the means\n",
    "print(df)\n",
    "print(\"\\nColumn means:\")\n",
    "print(means)"
   ]
  }
 ],
 "metadata": {
  "language_info": {
   "name": "python"
  }
 },
 "nbformat": 4,
 "nbformat_minor": 5
}
